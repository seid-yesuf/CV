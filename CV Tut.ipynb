{
 "cells": [
  {
   "cell_type": "code",
   "execution_count": 5,
   "id": "8fc52d33-c44a-4bed-80c4-939178aae544",
   "metadata": {},
   "outputs": [
    {
     "name": "stdout",
     "output_type": "stream",
     "text": [
      "2.6.0+cpu\n",
      "2.6.0+cpu\n"
     ]
    }
   ],
   "source": [
    "# PyTorch Computer Vision libraries\n",
    "# torchvision.datasets- get datasets and dataloading functions for CV\n",
    "#torch.models- get pretrained CV models that can leverage for your own problems\n",
    "# torch.utils.data.Datasets-  functions for manipulating yoour vision data/ images to suitable  for use \n",
    "#torch.utils.data.DataSet-Base dataset class for PyTorch\n",
    "#torch.utils.data.DataLoader- creates a python iterable over a datset\n",
    "\n",
    "import torch\n",
    "from torch import nn\n",
    "\n",
    "# import torchvision\n",
    "import torchvision\n",
    "from torchvision import datasets\n",
    "from torchvision import transforms\n",
    "from torchvision.transforms import ToTensor\n",
    "\n",
    "# Import matplotlib for visualization\n",
    "import matplotlib.pyplot as plt\n",
    "\n",
    "# Checkversions\n",
    "print(torch.__version__)\n",
    "print(torch.__version__)\n",
    "\n"
   ]
  },
  {
   "cell_type": "code",
   "execution_count": 13,
   "id": "98c0a2b1-7afd-46d9-ab74-313ef86f2b1a",
   "metadata": {},
   "outputs": [
    {
     "name": "stderr",
     "output_type": "stream",
     "text": [
      "100%|█████████████████████████████████████████████████████████████████████████████| 26.4M/26.4M [00:05<00:00, 4.59MB/s]\n",
      "100%|█████████████████████████████████████████████████████████████████████████████| 29.5k/29.5k [00:00<00:00, 3.07MB/s]\n",
      "100%|█████████████████████████████████████████████████████████████████████████████| 4.42M/4.42M [00:01<00:00, 4.26MB/s]\n",
      "100%|██████████████████████████████████████████████████████████████████████████████| 5.15k/5.15k [00:00<00:00, 680kB/s]\n"
     ]
    }
   ],
   "source": [
    "# Getting a dataset-FashionMNIST\n",
    "from torchvision import datasets\n",
    "# Setup the training data\n",
    "train_data=datasets.FashionMNIST(\n",
    "    root=\"data\", # where to download datat to\n",
    "    train=True, #  do we want the training dataset?\n",
    "    download=True, # do we want to download yes/no? \n",
    "    transform=torchvision.transforms.ToTensor(), # how do we want to transform the data?\n",
    "    target_transform=None # how do we want to transform the labels/targets?\n",
    "    )\n",
    "\n",
    "tets_data=datasets.FashionMNIST(\n",
    "    root=\"data\", # where to download datat to\n",
    "    train=False, #  do we want the training dataset?\n",
    "    download=True, # do we want to download yes/no? \n",
    "    transform=torchvision.transforms.ToTensor(), # how do we want to transform the data?\n",
    "    target_transform=None # how do we want to transform the labels/targets?\n",
    ")"
   ]
  },
  {
   "cell_type": "code",
   "execution_count": null,
   "id": "3416861f-1633-4536-88fe-9f8eb59b2aa9",
   "metadata": {},
   "outputs": [],
   "source": []
  }
 ],
 "metadata": {
  "kernelspec": {
   "display_name": "Python [conda env:.conda-DeepLearning_Env]",
   "language": "python",
   "name": "conda-env-.conda-DeepLearning_Env-py"
  },
  "language_info": {
   "codemirror_mode": {
    "name": "ipython",
    "version": 3
   },
   "file_extension": ".py",
   "mimetype": "text/x-python",
   "name": "python",
   "nbconvert_exporter": "python",
   "pygments_lexer": "ipython3",
   "version": "3.9.18"
  }
 },
 "nbformat": 4,
 "nbformat_minor": 5
}
